{
 "cells": [
  {
   "cell_type": "markdown",
   "id": "aa142856-e53b-41c6-bc8d-ce5d2d6e814d",
   "metadata": {},
   "source": [
    "### İstatistik"
   ]
  },
  {
   "cell_type": "code",
   "execution_count": 1,
   "id": "c75e3eb3-be98-49d1-a2f8-6d3cabfcc87b",
   "metadata": {
    "tags": []
   },
   "outputs": [],
   "source": [
    "import numpy as np"
   ]
  },
  {
   "cell_type": "code",
   "execution_count": 3,
   "id": "0414d290-0366-4586-9e8e-8bdd1b05f3a4",
   "metadata": {
    "tags": []
   },
   "outputs": [],
   "source": [
    "populasyon=np.random.randint(0,80,10000) #Yaşları 0-80 arasında 10000 kişilik populasyon oluşturduk"
   ]
  },
  {
   "cell_type": "code",
   "execution_count": 4,
   "id": "4fcd76bb-c451-4190-9831-133e3b951b37",
   "metadata": {
    "tags": []
   },
   "outputs": [],
   "source": [
    "# orneklem çekimi\n",
    "\n",
    "np.random.seed(115) #her örneklem çekildiğinde aynı yapıdan çekilmesi için \n",
    "orneklem = np.random.choice(a=populasyon , size=100)"
   ]
  },
  {
   "cell_type": "code",
   "execution_count": 5,
   "id": "613ec5d6-6ed3-4114-8eb8-87ad2353862e",
   "metadata": {
    "tags": []
   },
   "outputs": [
    {
     "data": {
      "text/plain": [
       "38.34"
      ]
     },
     "execution_count": 5,
     "metadata": {},
     "output_type": "execute_result"
    }
   ],
   "source": [
    "orneklem.mean()"
   ]
  },
  {
   "cell_type": "code",
   "execution_count": 6,
   "id": "ee486929-fb09-4ad4-a072-a60a487b246f",
   "metadata": {
    "tags": []
   },
   "outputs": [
    {
     "data": {
      "text/plain": [
       "39.4161"
      ]
     },
     "execution_count": 6,
     "metadata": {},
     "output_type": "execute_result"
    }
   ],
   "source": [
    "populasyon.mean()"
   ]
  },
  {
   "cell_type": "code",
   "execution_count": 9,
   "id": "9dc5e7de-a8bc-40b3-97e9-4157696ba212",
   "metadata": {
    "tags": []
   },
   "outputs": [
    {
     "data": {
      "text/plain": [
       "39.344"
      ]
     },
     "execution_count": 9,
     "metadata": {},
     "output_type": "execute_result"
    }
   ],
   "source": [
    "orn1= np.random.choice(a=populasyon , size=100)\n",
    "orn2= np.random.choice(a=populasyon , size=100)\n",
    "orn3= np.random.choice(a=populasyon , size=100)\n",
    "orn4= np.random.choice(a=populasyon , size=100)\n",
    "orn5= np.random.choice(a=populasyon , size=100)\n",
    "orn6= np.random.choice(a=populasyon , size=100)\n",
    "orn7= np.random.choice(a=populasyon , size=100)\n",
    "orn8= np.random.choice(a=populasyon , size=100)\n",
    "orn9= np.random.choice(a=populasyon , size=100)\n",
    "orn10= np.random.choice(a=populasyon , size=100)\n",
    "\n",
    "(orn1.mean()+orn2.mean()+orn3.mean()+orn4.mean()+orn5.mean()+orn6.mean()+orn7.mean()+orn8.mean()+orn9.mean()+orn10.mean())/10"
   ]
  },
  {
   "cell_type": "code",
   "execution_count": 10,
   "id": "ab0ae3e5-6ece-4a6c-a3f6-4e610ff07e89",
   "metadata": {
    "tags": []
   },
   "outputs": [
    {
     "data": {
      "text/plain": [
       "41.33"
      ]
     },
     "execution_count": 10,
     "metadata": {},
     "output_type": "execute_result"
    }
   ],
   "source": [
    "orn1.mean()"
   ]
  },
  {
   "cell_type": "code",
   "execution_count": 18,
   "id": "861887a0-6435-4340-b4b9-2a285fad3020",
   "metadata": {
    "tags": []
   },
   "outputs": [
    {
     "data": {
      "text/plain": [
       "38.86"
      ]
     },
     "execution_count": 18,
     "metadata": {},
     "output_type": "execute_result"
    }
   ],
   "source": [
    "orn2.mean()"
   ]
  },
  {
   "cell_type": "markdown",
   "id": "333e5428-b601-479f-bd6c-85a28ce3249c",
   "metadata": {},
   "source": [
    "#### Bernoulli Dağılımı "
   ]
  },
  {
   "cell_type": "markdown",
   "id": "043e4b68-673f-48e9-b995-0ac7611327cf",
   "metadata": {},
   "source": [
    "###### Başarılı - başarısız , olumlu - olumsuz şeklinde iki sonuçlu olaylar varsa kesikli olasılık dağılımıdır."
   ]
  },
  {
   "cell_type": "code",
   "execution_count": 19,
   "id": "20b35a79-ff38-468e-904a-728a952d834a",
   "metadata": {
    "tags": []
   },
   "outputs": [],
   "source": [
    "from scipy.stats import bernoulli"
   ]
  },
  {
   "cell_type": "code",
   "execution_count": 20,
   "id": "483dcd02-cdcf-4e38-8372-7cd3280f9cb9",
   "metadata": {
    "tags": []
   },
   "outputs": [
    {
     "data": {
      "text/plain": [
       "0.6"
      ]
     },
     "execution_count": 20,
     "metadata": {},
     "output_type": "execute_result"
    }
   ],
   "source": [
    "p=0.6\n",
    "rv=bernoulli(p)\n",
    "rv.pmf(k=1)"
   ]
  },
  {
   "cell_type": "markdown",
   "id": "300f4b78-9240-4baf-af62-19236773741f",
   "metadata": {},
   "source": [
    "#### Büyük sayılar yasası"
   ]
  },
  {
   "cell_type": "markdown",
   "id": "fa9ff7d1-42c0-4f88-a46f-68c477885fa2",
   "metadata": {},
   "source": [
    "###### Bir rassal değişkenin uzun vadeli kararlılığını tanımlayan olasılık teorimidir"
   ]
  },
  {
   "cell_type": "code",
   "execution_count": 21,
   "id": "b41fd3e1-0c4a-45a8-a9f1-40c02cc7a3ba",
   "metadata": {
    "tags": []
   },
   "outputs": [
    {
     "name": "stdout",
     "output_type": "stream",
     "text": [
      "Atış Sayısı: 2 --- Yazı Olasılığı: 50.00\n",
      "Atış Sayısı: 4 --- Yazı Olasılığı: 0.00\n",
      "Atış Sayısı: 8 --- Yazı Olasılığı: 62.50\n",
      "Atış Sayısı: 16 --- Yazı Olasılığı: 43.75\n",
      "Atış Sayısı: 32 --- Yazı Olasılığı: 46.88\n",
      "Atış Sayısı: 64 --- Yazı Olasılığı: 56.25\n",
      "Atış Sayısı: 128 --- Yazı Olasılığı: 50.78\n",
      "Atış Sayısı: 256 --- Yazı Olasılığı: 52.73\n",
      "Atış Sayısı: 512 --- Yazı Olasılığı: 52.93\n",
      "Atış Sayısı: 1024 --- Yazı Olasılığı: 50.20\n",
      "Atış Sayısı: 2048 --- Yazı Olasılığı: 48.58\n",
      "Atış Sayısı: 4096 --- Yazı Olasılığı: 49.49\n",
      "Atış Sayısı: 8192 --- Yazı Olasılığı: 49.58\n",
      "Atış Sayısı: 16384 --- Yazı Olasılığı: 49.96\n",
      "Atış Sayısı: 32768 --- Yazı Olasılığı: 50.00\n",
      "Atış Sayısı: 65536 --- Yazı Olasılığı: 49.68\n",
      "Atış Sayısı: 131072 --- Yazı Olasılığı: 49.97\n",
      "Atış Sayısı: 262144 --- Yazı Olasılığı: 50.13\n",
      "Atış Sayısı: 524288 --- Yazı Olasılığı: 50.01\n",
      "Atış Sayısı: 1048576 --- Yazı Olasılığı: 50.09\n"
     ]
    }
   ],
   "source": [
    "import numpy as np\n",
    "rng = np.random.RandomState(123)\n",
    "for i in np.arange(1,21):\n",
    "    deney_sayisi = 2**i\n",
    "    yazi_turalar = rng.randint(0, 2, size = deney_sayisi)\n",
    "    yazi_olasiliklari = np.mean(yazi_turalar)\n",
    "    print(\"Atış Sayısı:\",deney_sayisi,\"---\",'Yazı Olasılığı: %.2f' % (yazi_olasiliklari * 100))\n"
   ]
  },
  {
   "cell_type": "markdown",
   "id": "bbba8e93-3130-49a7-979f-6a7ba5635fd4",
   "metadata": {},
   "source": [
    "#### Binom dağılımı"
   ]
  },
  {
   "cell_type": "markdown",
   "id": "447b55f8-5e27-4afb-a211-e8031cac5238",
   "metadata": {},
   "source": [
    "##### Bağımsız n deneme sonucu k başarılı olma olasılığı ile ilgilenildiğinde kullanılan dağılımdır"
   ]
  },
  {
   "cell_type": "code",
   "execution_count": 22,
   "id": "826ed532-1721-4cb5-9d07-e5bb70a90c51",
   "metadata": {
    "tags": []
   },
   "outputs": [
    {
     "name": "stdout",
     "output_type": "stream",
     "text": [
      "0.36972963764972666\n"
     ]
    }
   ],
   "source": [
    "from scipy.stats import binom\n",
    "p=0.01\n",
    "n=100\n",
    "rv=binom(n,p)\n",
    "print(rv.pmf(1))"
   ]
  },
  {
   "cell_type": "markdown",
   "id": "84301f8b-cb0b-4b66-a21f-03eddddbb0a5",
   "metadata": {},
   "source": [
    "#### Poisson dağılımı\n"
   ]
  },
  {
   "cell_type": "markdown",
   "id": "f5d67685-c5e7-43ec-a091-abb5cf445fea",
   "metadata": {},
   "source": [
    "##### Belirli zaman aralığında belirli bir alanda nadiren rastlanan olayların olasılıkları hesaplanılırken kullanılan kesikli dağılımdır"
   ]
  },
  {
   "cell_type": "code",
   "execution_count": 23,
   "id": "5b7855f1-862b-467a-8e58-aac6f35c3d12",
   "metadata": {
    "tags": []
   },
   "outputs": [],
   "source": [
    "#100000 kelimeden oluşan kitapta hatalı kelime sayısı , Rötara yakalanan uçak sayısı"
   ]
  },
  {
   "cell_type": "code",
   "execution_count": 25,
   "id": "fdc685fb-fd13-4071-8f77-5711da979420",
   "metadata": {
    "tags": []
   },
   "outputs": [
    {
     "name": "stdout",
     "output_type": "stream",
     "text": [
      "0.9048374180359595\n"
     ]
    }
   ],
   "source": [
    "# 5000 not girişinde hiç hata olmaması olasılığı\n",
    "\n",
    "from scipy.stats import poisson \n",
    "lambda_=0.1\n",
    "rv=poisson(mu=lambda_)\n",
    "print(rv.pmf(k=0))"
   ]
  },
  {
   "cell_type": "code",
   "execution_count": 26,
   "id": "2a7a7442-fa8d-4e44-a09c-5e6ecf35bbff",
   "metadata": {
    "tags": []
   },
   "outputs": [
    {
     "name": "stdout",
     "output_type": "stream",
     "text": [
      "0.00015080623633932676\n"
     ]
    }
   ],
   "source": [
    "# 5000 not girişinde 3 hata olması olasılığı\n",
    "\n",
    "from scipy.stats import poisson \n",
    "lambda_=0.1\n",
    "rv=poisson(mu=lambda_)\n",
    "print(rv.pmf(k=3))"
   ]
  },
  {
   "cell_type": "markdown",
   "id": "52005d6c-40f4-48ee-b281-80458c476ce4",
   "metadata": {},
   "source": [
    "#### Normal dağılım\n"
   ]
  },
  {
   "cell_type": "markdown",
   "id": "fff6672e-333b-4be8-92a3-4215c588d1c6",
   "metadata": {},
   "source": [
    "##### Normal dağıldığı bilinen sürekli rassal değişkenler için olaasılık hesaplanmasında kullanılır."
   ]
  },
  {
   "cell_type": "code",
   "execution_count": 27,
   "id": "cf493534-85af-4f19-b838-f0463c238983",
   "metadata": {
    "tags": []
   },
   "outputs": [
    {
     "data": {
      "text/plain": [
       "0.02275013194817921"
      ]
     },
     "execution_count": 27,
     "metadata": {},
     "output_type": "execute_result"
    }
   ],
   "source": [
    "# Gelecek ay ile ilgili satışların belirli değerlerde gerçekleşmesi olasılığı belirlenmek isteniyor.\n",
    "#Dağılım normaldir.\n",
    "#Aylık ortalama satış = 80 000 , standart sapması= 5 000\n",
    "#90 000 dan fazla satış yapma olasılığı \n",
    "\n",
    "from scipy.stats import norm\n",
    "1-norm.cdf(90,80,5)"
   ]
  },
  {
   "cell_type": "code",
   "execution_count": 28,
   "id": "adc12c70-73ea-4ced-9c41-276437441065",
   "metadata": {
    "tags": []
   },
   "outputs": [
    {
     "data": {
      "text/plain": [
       "0.9772498680518208"
      ]
     },
     "execution_count": 28,
     "metadata": {},
     "output_type": "execute_result"
    }
   ],
   "source": [
    "#70 000 den fazla satış yapma olasılığı \n",
    "\n",
    "from scipy.stats import norm\n",
    "1-norm.cdf(70,80,5)"
   ]
  },
  {
   "cell_type": "code",
   "execution_count": 29,
   "id": "fac16eec-6317-416a-9d1f-bc6ec733fa77",
   "metadata": {
    "tags": []
   },
   "outputs": [
    {
     "data": {
      "text/plain": [
       "0.022750131948179195"
      ]
     },
     "execution_count": 29,
     "metadata": {},
     "output_type": "execute_result"
    }
   ],
   "source": [
    "#70 000 den az olma olasılığı\n",
    " \n",
    "from scipy.stats import norm\n",
    "norm.cdf(70,80,5)"
   ]
  },
  {
   "cell_type": "code",
   "execution_count": null,
   "id": "ffc7de55-79be-469d-908a-588a075251bc",
   "metadata": {},
   "outputs": [],
   "source": [
    "#85 000 ile 90 000 olma olasılığı\n",
    "\n",
    "from scipy.stats import norm\n",
    "norm.cdf(90,80,5) -norm.cdf(,80,5)"
   ]
  }
 ],
 "metadata": {
  "kernelspec": {
   "display_name": "Python 3 (ipykernel)",
   "language": "python",
   "name": "python3"
  },
  "language_info": {
   "codemirror_mode": {
    "name": "ipython",
    "version": 3
   },
   "file_extension": ".py",
   "mimetype": "text/x-python",
   "name": "python",
   "nbconvert_exporter": "python",
   "pygments_lexer": "ipython3",
   "version": "3.11.5"
  }
 },
 "nbformat": 4,
 "nbformat_minor": 5
}
